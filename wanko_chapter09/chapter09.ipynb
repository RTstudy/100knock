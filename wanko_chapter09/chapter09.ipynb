{
 "cells": [
  {
   "cell_type": "markdown",
   "metadata": {},
   "source": [
    "# ノック81 : 画像データ読み込み"
   ]
  },
  {
   "cell_type": "code",
   "execution_count": 1,
   "metadata": {},
   "outputs": [],
   "source": [
    "import cv2"
   ]
  },
  {
   "cell_type": "code",
   "execution_count": 2,
   "metadata": {},
   "outputs": [
    {
     "name": "stdout",
     "output_type": "stream",
     "text": [
      "画像幅：1920\n",
      "画像高さ：1440\n"
     ]
    },
    {
     "data": {
      "text/plain": [
       "-1"
      ]
     },
     "execution_count": 2,
     "metadata": {},
     "output_type": "execute_result"
    }
   ],
   "source": [
    "img = cv2.imread('img/img01.jpg')\n",
    "height, width = img.shape[:2]\n",
    "print('画像幅：' + str(width))\n",
    "print('画像高さ：' + str(height))\n",
    "cv2.imshow('img', img)\n",
    "cv2.waitKey(0)"
   ]
  },
  {
   "cell_type": "markdown",
   "metadata": {},
   "source": [
    "# ノック82：映像データ読み込み"
   ]
  },
  {
   "cell_type": "code",
   "execution_count": 3,
   "metadata": {},
   "outputs": [
    {
     "name": "stdout",
     "output_type": "stream",
     "text": [
      "画像幅：1920.0\n",
      "画像高さ：1440.0\n",
      "総フレーム数：401.0\n",
      "FPS：30.0\n"
     ]
    }
   ],
   "source": [
    "cap = cv2.VideoCapture('mov/mov01.avi')\n",
    "width = cap.get(cv2.CAP_PROP_FRAME_WIDTH)\n",
    "height = cap.get(cv2.CAP_PROP_FRAME_HEIGHT)\n",
    "count = cap.get(cv2.CAP_PROP_FRAME_COUNT)\n",
    "fps = cap.get(cv2.CAP_PROP_FPS)\n",
    "print('画像幅：' + str(width))\n",
    "print('画像高さ：' + str(height))\n",
    "print('総フレーム数：' + str(count))\n",
    "print('FPS：' + str(fps))"
   ]
  },
  {
   "cell_type": "code",
   "execution_count": null,
   "metadata": {},
   "outputs": [],
   "source": [
    "while(cap.isOpened()):\n",
    "    ret, frame = cap.read()\n",
    "    if ret:\n",
    "        cv2.imshow('frame', frame)\n",
    "    if cv2.waitKey(1) & 0xFF == ord('q'):\n",
    "        break\n",
    "cap.release()\n",
    "cv2.destroyAllWindows"
   ]
  },
  {
   "cell_type": "markdown",
   "metadata": {},
   "source": [
    "# ノック83：映像を画像に分割して保存"
   ]
  },
  {
   "cell_type": "code",
   "execution_count": null,
   "metadata": {},
   "outputs": [],
   "source": [
    "cap = cv2.VideoCapture('mov/mov01.avi')\n",
    "num = 0\n",
    "\n",
    "while(cap.isOpened()):\n",
    "    ret, frame = cap.read()\n",
    "    if ret:\n",
    "        cv2.imshow('frame', frame)\n",
    "        filepath = 'snapshot/snapshot_' + str(num) + '.jpg'\n",
    "        cv2.imwrite(filepath, frame)\n",
    "        if cv2.waitKey(1) & 0xFF == ord('q'):\n",
    "            break\n",
    "    num = num + 1\n",
    "cap.release()\n",
    "cv2.destroyAllWindows"
   ]
  },
  {
   "cell_type": "markdown",
   "metadata": {},
   "source": [
    "# ノック84：人の検出"
   ]
  },
  {
   "cell_type": "code",
   "execution_count": 1,
   "metadata": {},
   "outputs": [],
   "source": [
    "import cv2"
   ]
  },
  {
   "cell_type": "code",
   "execution_count": 6,
   "metadata": {},
   "outputs": [],
   "source": [
    "hog = cv2.HOGDescriptor()\n",
    "hog.setSVMDetector(cv2.HOGDescriptor_getDefaultPeopleDetector())\n",
    "hogParams = {'winStride' : (8, 8),\n",
    "             'padding' : (32, 32),\n",
    "             'scale' : 1.05,\n",
    "             'hitThreshold' : 0,\n",
    "             'finalThreshold' : 5}"
   ]
  },
  {
   "cell_type": "code",
   "execution_count": 7,
   "metadata": {},
   "outputs": [
    {
     "data": {
      "text/plain": [
       "-1"
      ]
     },
     "execution_count": 7,
     "metadata": {},
     "output_type": "execute_result"
    }
   ],
   "source": [
    "img = cv2.imread('img/img01.jpg')\n",
    "gray = cv2.cvtColor(img, cv2.COLOR_BGR2GRAY)\n",
    "human, r =hog.detectMultiScale(gray, **hogParams)\n",
    "\n",
    "if (len(human)>0):\n",
    "    for (x, y, w, h) in human:\n",
    "        cv2.rectangle(img, (x,y), (x+w, y+h), (255, 255, 255), 3)\n",
    "cv2.imshow('img', img)\n",
    "cv2.waitKey(0)"
   ]
  },
  {
   "cell_type": "markdown",
   "metadata": {},
   "source": [
    "# ノック85：顔検出"
   ]
  },
  {
   "cell_type": "code",
   "execution_count": 8,
   "metadata": {},
   "outputs": [],
   "source": [
    "import cv2"
   ]
  },
  {
   "cell_type": "code",
   "execution_count": 9,
   "metadata": {},
   "outputs": [],
   "source": [
    "cascade_file = 'haarcascade_frontalface_alt.xml'\n",
    "cascade = cv2.CascadeClassifier(cascade_file)"
   ]
  },
  {
   "cell_type": "code",
   "execution_count": 10,
   "metadata": {},
   "outputs": [],
   "source": [
    "img = cv2.imread('img/img02.jpg')\n",
    "gray = cv2.cvtColor(img, cv2.COLOR_BGR2GRAY)\n",
    "face_list = cascade.detectMultiScale(gray, minSize = (50, 50))"
   ]
  },
  {
   "cell_type": "code",
   "execution_count": 11,
   "metadata": {},
   "outputs": [
    {
     "data": {
      "text/plain": [
       "array([[1051,   87,  182,  182]], dtype=int32)"
      ]
     },
     "execution_count": 11,
     "metadata": {},
     "output_type": "execute_result"
    }
   ],
   "source": [
    "face_list"
   ]
  },
  {
   "cell_type": "code",
   "execution_count": 13,
   "metadata": {},
   "outputs": [
    {
     "data": {
      "text/plain": [
       "-1"
      ]
     },
     "execution_count": 13,
     "metadata": {},
     "output_type": "execute_result"
    }
   ],
   "source": [
    "for (x, y, w, h) in face_list:\n",
    "    color = (0, 0, 225)\n",
    "    pen_w = 3\n",
    "    cv2.rectangle(img, (x,y), (x+w, y+h), color, thickness = pen_w)\n",
    "cv2.imshow('img', img)\n",
    "cv2.imwrite('temp.jpg', img)\n",
    "cv2.waitKey(0)"
   ]
  },
  {
   "cell_type": "markdown",
   "metadata": {},
   "source": [
    "# ノック86：顔のランドマーク検出"
   ]
  },
  {
   "cell_type": "code",
   "execution_count": 59,
   "metadata": {},
   "outputs": [],
   "source": [
    "import cv2\n",
    "import dlib\n",
    "import math"
   ]
  },
  {
   "cell_type": "code",
   "execution_count": 60,
   "metadata": {},
   "outputs": [],
   "source": [
    "predictor = dlib.shape_predictor(\"shape_predictor_68_face_landmarks.dat\")\n",
    "detector = dlib.get_frontal_face_detector()"
   ]
  },
  {
   "cell_type": "code",
   "execution_count": 61,
   "metadata": {},
   "outputs": [],
   "source": [
    "img = cv2.imread(\"img/img02.jpg\")\n",
    "dets = detector(img, 1)"
   ]
  },
  {
   "cell_type": "code",
   "execution_count": 62,
   "metadata": {},
   "outputs": [
    {
     "name": "stdout",
     "output_type": "stream",
     "text": [
      "1138.4313725490192 1133.5882352941176 4.843137254901649 1216 1061 155 -0.06249209361163418\n",
      "顔方位：0.06253283992253719 (角度：3.582867808528563度)\n"
     ]
    }
   ],
   "source": [
    "for k, d in enumerate(dets):\n",
    "    shape = predictor(img, d)\n",
    "    \n",
    "    color_f = (0, 0, 225)\n",
    "    color_l_out = (225, 0, 0)\n",
    "    color_l_in = (0, 225, 0)\n",
    "    \n",
    "    line_w = 3\n",
    "    circle_r = 3\n",
    "    fontType = cv2.FONT_HERSHEY_SIMPLEX\n",
    "    fontSize = 1\n",
    "    \n",
    "    cv2.rectangle(img,\n",
    "                  (d.left(), d.top()),\n",
    "                  (d.right(), d.bottom()),\n",
    "                  color_f,\n",
    "                  line_w)\n",
    "    cv2.putText(img, str(k),\n",
    "                (d.left(), d.top()),\n",
    "                fontType,\n",
    "                fontSize,\n",
    "                color_f,\n",
    "                line_w)\n",
    "    \n",
    "    num_of_points_out = 17\n",
    "    num_of_points_in = shape.num_parts - num_of_points_out\n",
    "    gx_out = 0\n",
    "    gy_out = 0\n",
    "    gx_in = 0\n",
    "    gy_in = 0\n",
    "    \n",
    "    for shape_point_count in range(shape.num_parts):\n",
    "        shape_point = shape.part(shape_point_count)\n",
    "        #print('顔器官No.{} 座標位置：({}, {})'.format(shape_point_count, shape_point.x, shape_point.y))\n",
    "        \n",
    "        if shape_point_count < num_of_points_out:\n",
    "            cv2.circle(img,\n",
    "                       (shape_point.x, shape_point.y),\n",
    "                       circle_r,\n",
    "                       color_l_out,\n",
    "                       line_w)\n",
    "            gx_out = gx_out + shape_point.x/num_of_points_out\n",
    "            gy_out = gy_out + shape_point.y/num_of_points_out\n",
    "            # 輪郭の各点の座標の平均値\n",
    "        else:\n",
    "            cv2.circle(img,\n",
    "                       (shape_point.x, shape_point.y),\n",
    "                       circle_r,\n",
    "                       color_l_in,\n",
    "                       line_w)\n",
    "            gx_in = gx_in + shape_point.x/num_of_points_in\n",
    "            gy_in = gy_in + shape_point.y/num_of_points_in\n",
    "            # 顔の各要素の点の座標の平均値\n",
    "            \n",
    "        #print(gx_out, gx_in)\n",
    "            \n",
    "    cv2.circle(img,\n",
    "               (int(gx_out), int(gy_out)),\n",
    "               circle_r,\n",
    "               (0, 0, 255),\n",
    "               line_w)\n",
    "    cv2.circle(img,\n",
    "               (int(gx_in), int(gy_in)),\n",
    "               circle_r,\n",
    "               (0, 0, 0),\n",
    "               line_w)\n",
    "        \n",
    "    print(gx_in, gx_out, (gx_in - gx_out), d.right(), d.left(), (d.right() - d.left()), (2*(gx_out - gx_in)) / (d.right() - d.left()))\n",
    "    theta = math.asin(2 * (gx_in - gx_out) / (d.right() - d.left())) # (d.right() - d.left()) で顔を囲む矩形の横幅\n",
    "    radian = theta * 180 / math.pi\n",
    "    print('顔方位：{} (角度：{}度)'.format(theta, radian))\n",
    "\n",
    "    if radian < 0:\n",
    "        textPrefix = '    left'\n",
    "    else:\n",
    "        textPrefix = '    right'\n",
    "    textShow = textPrefix + str(round(abs(radian), 1)) + 'deg.'\n",
    "    cv2.putText(img,\n",
    "                textShow,\n",
    "                (d.left(), d.top()),\n",
    "                fontType,\n",
    "                fontSize,\n",
    "                color_f,\n",
    "                line_w)"
   ]
  },
  {
   "cell_type": "code",
   "execution_count": 63,
   "metadata": {},
   "outputs": [
    {
     "data": {
      "text/plain": [
       "-1"
      ]
     },
     "execution_count": 63,
     "metadata": {},
     "output_type": "execute_result"
    }
   ],
   "source": [
    "cv2.imshow('img', img)\n",
    "cv2.imwrite('temp.jpg', img)\n",
    "cv2.waitKey(0)"
   ]
  },
  {
   "cell_type": "markdown",
   "metadata": {},
   "source": [
    "# ノック87：タイムラプス"
   ]
  },
  {
   "cell_type": "code",
   "execution_count": 64,
   "metadata": {},
   "outputs": [],
   "source": [
    "import cv2"
   ]
  },
  {
   "cell_type": "code",
   "execution_count": 67,
   "metadata": {},
   "outputs": [
    {
     "name": "stdout",
     "output_type": "stream",
     "text": [
      "タイムラプス生成を開始します\n",
      "タイムラプス生成を終了しました\n"
     ]
    }
   ],
   "source": [
    "print('タイムラプス生成を開始します')\n",
    "\n",
    "cap = cv2.VideoCapture(\"mov/mov01.avi\")\n",
    "width = int(cap.get(cv2.CAP_PROP_FRAME_WIDTH))\n",
    "height = int(cap.get(cv2.CAP_PROP_FRAME_HEIGHT))\n",
    "\n",
    "hog = cv2.HOGDescriptor()\n",
    "hog.setSVMDetector(cv2.HOGDescriptor_getDefaultPeopleDetector())\n",
    "hogParams = {'winStride' : (8, 8),\n",
    "             'padding' : (32, 32),\n",
    "             'scale' : 1.05,\n",
    "             'hitThreshold' : 0,\n",
    "             'finalThreshold' : 5}\n",
    "\n",
    "movie_name = 'timelapse.avi'\n",
    "fourcc = cv2.VideoWriter_fourcc('X', 'V', 'I', 'D')\n",
    "video = cv2.VideoWriter(movie_name, fourcc, 30, (width, height))\n",
    "\n",
    "num = 0\n",
    "while(cap.isOpened()):\n",
    "    ret, frame = cap.read()\n",
    "    if ret:\n",
    "        if (num % 10 == 0):\n",
    "            gray = cv2.cvtColor(frame, cv2.COLOR_BGR2GRAY)\n",
    "            human, r =hog.detectMultiScale(gray, **hogParams)\n",
    "            if (len(human) > 0):\n",
    "                for (x, y, w, h) in human:\n",
    "                    cv2.rectangle(frame, (x,y), (x+w, y+h), (255, 255, 255), 3)\n",
    "                    \n",
    "            video.write(frame)\n",
    "    else:\n",
    "        break\n",
    "    num = num + 1\n",
    "    \n",
    "video.release()\n",
    "cap.release()\n",
    "cv2.destroyAllWindows()\n",
    "print('タイムラプス生成を終了しました')"
   ]
  },
  {
   "cell_type": "markdown",
   "metadata": {},
   "source": [
    "# ノック88：全体像を可視化"
   ]
  },
  {
   "cell_type": "code",
   "execution_count": 84,
   "metadata": {},
   "outputs": [],
   "source": [
    "import cv2\n",
    "import pandas as pd"
   ]
  },
  {
   "cell_type": "code",
   "execution_count": 85,
   "metadata": {},
   "outputs": [
    {
     "name": "stdout",
     "output_type": "stream",
     "text": [
      "分析を開始します\n",
      "分析を修了しました\n"
     ]
    }
   ],
   "source": [
    "print('分析を開始します')\n",
    "\n",
    "cap = cv2.VideoCapture('mov/mov01.avi')\n",
    "fps = cap.get(cv2.CAP_PROP_FPS)\n",
    "\n",
    "hog = cv2.HOGDescriptor()\n",
    "hog.setSVMDetector(cv2.HOGDescriptor_getDefaultPeopleDetector())\n",
    "hogParams = {'winStride' : (8, 8),\n",
    "             'padding' : (32, 32),\n",
    "             'scale' : 1.05,\n",
    "             'hitThreshold' : 0,\n",
    "             'finalThreshold' : 5}\n",
    "\n",
    "num = 0\n",
    "list_df = pd.DataFrame( columns = ['times', 'people'])\n",
    "\n",
    "while(cap.isOpened()):\n",
    "    ret, frame = cap.read()\n",
    "    if ret:\n",
    "        if (num % 10 == 0):\n",
    "            gray = cv2.cvtColor(frame, cv2.COLOR_BGR2GRAY)\n",
    "            human, r =hog.detectMultiScale(gray, **hogParams)\n",
    "            if (len(human) > 0):\n",
    "                for (x, y, w, h) in human:\n",
    "                    cv2.rectangle(frame, (x,y), (x+w, y+h), (255, 255, 255), 3)\n",
    "            tmp_se = pd.Series([num/fps, len(human)], index = list_df.columns)\n",
    "            list_df = list_df.append(tmp_se, ignore_index = True)\n",
    "            if cv2.waitKey(1) & 0xFF == ord('q'):\n",
    "                break\n",
    "                \n",
    "    else:\n",
    "        break\n",
    "    num = num + 1\n",
    "        \n",
    "cap.release()\n",
    "cv2.destroyAllWindows()\n",
    "print('分析を修了しました')"
   ]
  },
  {
   "cell_type": "code",
   "execution_count": 86,
   "metadata": {},
   "outputs": [],
   "source": [
    "import matplotlib.pyplot as plt"
   ]
  },
  {
   "cell_type": "code",
   "execution_count": 87,
   "metadata": {},
   "outputs": [
    {
     "data": {
      "image/png": "[encoded data removed]",
      "text/plain": [
       "<Figure size 432x288 with 1 Axes>"
      ]
     },
     "metadata": {
      "needs_background": "light"
     },
     "output_type": "display_data"
    }
   ],
   "source": [
    "plt.plot(list_df['times'], list_df['people'], label = 'test')\n",
    "plt.show()"
   ]
  },
  {
   "cell_type": "markdown",
   "metadata": {},
   "source": [
    "# ノック89：人通りの変化を確認"
   ]
  },
  {
   "cell_type": "code",
   "execution_count": 88,
   "metadata": {},
   "outputs": [
    {
     "name": "stdout",
     "output_type": "stream",
     "text": [
      "分析を開始します\n",
      "分析を修了しました\n"
     ]
    }
   ],
   "source": [
    "print('分析を開始します')\n",
    "\n",
    "cap = cv2.VideoCapture('mov/mov02.avi')\n",
    "fps = cap.get(cv2.CAP_PROP_FPS)\n",
    "\n",
    "hog = cv2.HOGDescriptor()\n",
    "hog.setSVMDetector(cv2.HOGDescriptor_getDefaultPeopleDetector())\n",
    "hogParams = {'winStride' : (8, 8),\n",
    "             'padding' : (32, 32),\n",
    "             'scale' : 1.05,\n",
    "             'hitThreshold' : 0,\n",
    "             'finalThreshold' : 5}\n",
    "\n",
    "num = 0\n",
    "list_df2 = pd.DataFrame( columns = ['times', 'people'])\n",
    "\n",
    "while(cap.isOpened()):\n",
    "    ret, frame = cap.read()\n",
    "    if ret:\n",
    "        if (num % 10 == 0):\n",
    "            gray = cv2.cvtColor(frame, cv2.COLOR_BGR2GRAY)\n",
    "            human, r =hog.detectMultiScale(gray, **hogParams)\n",
    "            if (len(human) > 0):\n",
    "                for (x, y, w, h) in human:\n",
    "                    cv2.rectangle(frame, (x,y), (x+w, y+h), (255, 255, 255), 3)\n",
    "            tmp_se = pd.Series([num/fps, len(human)], index = list_df2.columns)\n",
    "            list_df2 = list_df2.append(tmp_se, ignore_index = True)\n",
    "            if cv2.waitKey(1) & 0xFF == ord('q'):\n",
    "                break\n",
    "                \n",
    "    else:\n",
    "        break\n",
    "    num = num + 1\n",
    "        \n",
    "cap.release()\n",
    "cv2.destroyAllWindows()\n",
    "print('分析を修了しました')"
   ]
  },
  {
   "cell_type": "code",
   "execution_count": 89,
   "metadata": {},
   "outputs": [
    {
     "data": {
      "image/png": "[encoded data removed]",
      "text/plain": [
       "<Figure size 432x288 with 1 Axes>"
      ]
     },
     "metadata": {
      "needs_background": "light"
     },
     "output_type": "display_data"
    }
   ],
   "source": [
    "plt.plot(list_df2['times'], list_df2['people'], label = 'test')\n",
    "plt.show()"
   ]
  },
  {
   "cell_type": "markdown",
   "metadata": {},
   "source": [
    "# ノック90：移動平均で比較"
   ]
  },
  {
   "cell_type": "code",
   "execution_count": 90,
   "metadata": {},
   "outputs": [],
   "source": [
    "import numpy as np"
   ]
  },
  {
   "cell_type": "code",
   "execution_count": 93,
   "metadata": {},
   "outputs": [],
   "source": [
    "def moving_average(x, y):\n",
    "    y_conv = np.convolve(y, np.ones(5)/float(5), mode = 'valid')\n",
    "    x_dat = np.linspace(np.min(x), np.max(x), np.size(y_conv))\n",
    "    return x_dat, y_conv"
   ]
  },
  {
   "cell_type": "code",
   "execution_count": 95,
   "metadata": {},
   "outputs": [
    {
     "data": {
      "text/plain": [
       "array([0.2, 0.2, 0.2, 0.2, 0.2])"
      ]
     },
     "execution_count": 95,
     "metadata": {},
     "output_type": "execute_result"
    }
   ],
   "source": [
    "np.ones(5)/float(5)"
   ]
  },
  {
   "cell_type": "code",
   "execution_count": 96,
   "metadata": {},
   "outputs": [
    {
     "data": {
      "text/plain": [
       "(array([ 0.        ,  0.37037037,  0.74074074,  1.11111111,  1.48148148,\n",
       "         1.85185185,  2.22222222,  2.59259259,  2.96296296,  3.33333333,\n",
       "         3.7037037 ,  4.07407407,  4.44444444,  4.81481481,  5.18518519,\n",
       "         5.55555556,  5.92592593,  6.2962963 ,  6.66666667,  7.03703704,\n",
       "         7.40740741,  7.77777778,  8.14814815,  8.51851852,  8.88888889,\n",
       "         9.25925926,  9.62962963, 10.        , 10.37037037, 10.74074074,\n",
       "        11.11111111, 11.48148148, 11.85185185, 12.22222222, 12.59259259,\n",
       "        12.96296296, 13.33333333]),\n",
       " array([ 8.6,  9.8,  8.8,  8.2,  9.4, 10. , 10. ,  9.8,  9.6,  8.8,  7.4,\n",
       "         7. ,  7.2,  6.8,  6.2,  6.6,  6.6,  7.4,  8.4,  9. ,  9.2,  9.2,\n",
       "         8.8,  8.2,  7.8,  7.8,  7.4,  7.4,  7.8,  7.6,  8.2,  7.6,  7.4,\n",
       "         6.6,  6.8,  6.8,  7.4]))"
      ]
     },
     "execution_count": 96,
     "metadata": {},
     "output_type": "execute_result"
    }
   ],
   "source": [
    "moving_average(list_df['times'], list_df['people'])"
   ]
  },
  {
   "cell_type": "code",
   "execution_count": 98,
   "metadata": {},
   "outputs": [
    {
     "data": {
      "text/plain": [
       "[<matplotlib.lines.Line2D at 0x2f383da3348>]"
      ]
     },
     "execution_count": 98,
     "metadata": {},
     "output_type": "execute_result"
    },
    {
     "data": {
      "image/png": "[encoded data removed]",
      "text/plain": [
       "<Figure size 432x288 with 1 Axes>"
      ]
     },
     "metadata": {
      "needs_background": "light"
     },
     "output_type": "display_data"
    }
   ],
   "source": [
    "plt.plot(list_df['times'], list_df['people'], label = 'raw')\n",
    "ma_x, ma_y = moving_average(list_df['times'], list_df['people'])\n",
    "plt.plot(ma_x, ma_y, label = 'average')"
   ]
  },
  {
   "cell_type": "code",
   "execution_count": 99,
   "metadata": {},
   "outputs": [
    {
     "data": {
      "text/plain": [
       "[<matplotlib.lines.Line2D at 0x2f383e0f2c8>]"
      ]
     },
     "execution_count": 99,
     "metadata": {},
     "output_type": "execute_result"
    },
    {
     "data": {
      "image/png": "[encoded data removed]",
      "text/plain": [
       "<Figure size 432x288 with 1 Axes>"
      ]
     },
     "metadata": {
      "needs_background": "light"
     },
     "output_type": "display_data"
    }
   ],
   "source": [
    "plt.plot(list_df2['times'], list_df2['people'], label = 'raw')\n",
    "ma_x2, ma_y2 = moving_average(list_df2['times'], list_df2['people'])\n",
    "plt.plot(ma_x2, ma_y2, label = 'average')"
   ]
  },
  {
   "cell_type": "code",
   "execution_count": 101,
   "metadata": {},
   "outputs": [
    {
     "data": {
      "text/plain": [
       "(0.0, 15.0)"
      ]
     },
     "execution_count": 101,
     "metadata": {},
     "output_type": "execute_result"
    },
    {
     "data": {
      "image/png": "[encoded data removed]",
      "text/plain": [
       "<Figure size 432x288 with 1 Axes>"
      ]
     },
     "metadata": {
      "needs_background": "light"
     },
     "output_type": "display_data"
    }
   ],
   "source": [
    "plt.plot(ma_x, ma_y, label = 'average')\n",
    "plt.plot(ma_x2, ma_y2, label = 'average')\n",
    "plt.ylim(0,15)"
   ]
  }
 ],
 "metadata": {
  "kernelspec": {
   "display_name": "Python 3",
   "language": "python",
   "name": "python3"
  },
  "language_info": {
   "codemirror_mode": {
    "name": "ipython",
    "version": 3
   },
   "file_extension": ".py",
   "mimetype": "text/x-python",
   "name": "python",
   "nbconvert_exporter": "python",
   "pygments_lexer": "ipython3",
   "version": "3.7.9"
  }
 },
 "nbformat": 4,
 "nbformat_minor": 4
}
