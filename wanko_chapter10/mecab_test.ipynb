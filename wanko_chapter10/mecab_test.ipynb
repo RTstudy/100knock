{
 "cells": [
  {
   "cell_type": "code",
   "execution_count": 1,
   "metadata": {},
   "outputs": [],
   "source": [
    "import MeCab"
   ]
  },
  {
   "cell_type": "code",
   "execution_count": 2,
   "metadata": {},
   "outputs": [
    {
     "data": {
      "text/plain": [
       "'すもも\\t名詞,一般,*,*,*,*,すもも,スモモ,スモモ\\nも\\t助詞,係助詞,*,*,*,*,も,モ,モ\\nもも\\t名詞,一般,*,*,*,*,もも,モモ,モモ\\nも\\t助詞,係助詞,*,*,*,*,も,モ,モ\\nもも\\t名詞,一般,*,*,*,*,もも,モモ,モモ\\nの\\t助詞,連体化,*,*,*,*,の,ノ,ノ\\nうち\\t名詞,非自立,副詞可能,*,*,*,うち,ウチ,ウチ\\nEOS\\n'"
      ]
     },
     "execution_count": 2,
     "metadata": {},
     "output_type": "execute_result"
    }
   ],
   "source": [
    "tagger = MeCab.Tagger()\n",
    "text = 'すもももももももものうち'\n",
    "words = tagger.parse(text)\n",
    "words"
   ]
  },
  {
   "cell_type": "code",
   "execution_count": 5,
   "metadata": {},
   "outputs": [
    {
     "data": {
      "text/plain": [
       "['すもも\\t名詞,一般,*,*,*,*,すもも,スモモ,スモモ',\n",
       " 'も\\t助詞,係助詞,*,*,*,*,も,モ,モ',\n",
       " 'もも\\t名詞,一般,*,*,*,*,もも,モモ,モモ',\n",
       " 'も\\t助詞,係助詞,*,*,*,*,も,モ,モ',\n",
       " 'もも\\t名詞,一般,*,*,*,*,もも,モモ,モモ',\n",
       " 'の\\t助詞,連体化,*,*,*,*,の,ノ,ノ',\n",
       " 'うち\\t名詞,非自立,副詞可能,*,*,*,うち,ウチ,ウチ',\n",
       " 'EOS']"
      ]
     },
     "execution_count": 5,
     "metadata": {},
     "output_type": "execute_result"
    }
   ],
   "source": [
    "words_t = tagger.parse(text).splitlines()\n",
    "[i for i in words_t]"
   ]
  },
  {
   "cell_type": "code",
   "execution_count": 8,
   "metadata": {},
   "outputs": [
    {
     "data": {
      "text/plain": [
       "'名詞,一般,*,*,*,*,すもも,スモモ,スモモ'"
      ]
     },
     "execution_count": 8,
     "metadata": {},
     "output_type": "execute_result"
    }
   ],
   "source": [
    "words_t[0].split()[1]"
   ]
  },
  {
   "cell_type": "code",
   "execution_count": 11,
   "metadata": {},
   "outputs": [
    {
     "data": {
      "text/plain": [
       "['名詞', '一般', '*', '*', '*', '*', 'すもも', 'スモモ', 'スモモ']"
      ]
     },
     "execution_count": 11,
     "metadata": {},
     "output_type": "execute_result"
    }
   ],
   "source": [
    "words_t[0].split()[1].split(',')"
   ]
  }
 ],
 "metadata": {
  "kernelspec": {
   "display_name": "Python 3",
   "language": "python",
   "name": "python3"
  },
  "language_info": {
   "codemirror_mode": {
    "name": "ipython",
    "version": 3
   },
   "file_extension": ".py",
   "mimetype": "text/x-python",
   "name": "python",
   "nbconvert_exporter": "python",
   "pygments_lexer": "ipython3",
   "version": "3.7.9"
  }
 },
 "nbformat": 4,
 "nbformat_minor": 4
}
